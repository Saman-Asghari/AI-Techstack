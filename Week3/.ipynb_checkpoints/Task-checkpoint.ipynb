{
 "cells": [
  {
   "cell_type": "code",
   "execution_count": 1,
   "metadata": {},
   "outputs": [],
   "source": [
    "import numpy as np\n",
    "import cv2\n",
    "import matplotlib.pyplot as plt"
   ]
  },
  {
   "cell_type": "code",
   "execution_count": 2,
   "metadata": {},
   "outputs": [],
   "source": [
    "def initialize_centroids_kmeans_plus_plus(pixels, K):\n",
    "    centroids = []\n",
    "    # Randomly select the first centroid from the data points\n",
    "    centroids.append(pixels[np.random.randint(pixels.shape[0])])\n",
    "\n",
    "    # Select the remaining K-1 centroids\n",
    "    for _ in range(1, K):\n",
    "        distances = np.array([min([np.sqrt(np.sum((pixel - centroid) ** 2)) for centroid in centroids]) for pixel in pixels])\n",
    "        probs = distances / np.sum(distances)\n",
    "        cumulative_probs = np.cumsum(probs)\n",
    "        r = np.random.rand()\n",
    "       \n",
    "        for j, p in enumerate(cumulative_probs):\n",
    "            if r < p:\n",
    "                centroids.append(pixels[j])\n",
    "                break\n",
    "\n",
    "    return np.array(centroids)"
   ]
  },
  {
   "cell_type": "code",
   "execution_count": 3,
   "metadata": {},
   "outputs": [],
   "source": [
    "def compute_distance(pixel, centroid):\n",
    "    return np.sqrt(np.sum((pixel - centroid) ** 2))"
   ]
  },
  {
   "cell_type": "code",
   "execution_count": 4,
   "metadata": {},
   "outputs": [],
   "source": [
    "def assign_pixels_to_centroids(pixels, centroids):\n",
    "    clusters = {}\n",
    "    for i in range(len(centroids)):\n",
    "        clusters[i] = []\n",
    "   \n",
    "    for pixel in pixels:\n",
    "        distances = [compute_distance(pixel, centroid) for centroid in centroids]\n",
    "        closest_index = np.argmin(distances)\n",
    "        clusters[closest_index].append(pixel)\n",
    "   \n",
    "    return clusters"
   ]
  },
  {
   "cell_type": "code",
   "execution_count": 5,
   "metadata": {},
   "outputs": [],
   "source": [
    "def recompute_centroids(clusters, K):\n",
    "    centroids = np.zeros((K, 3))\n",
    "    for idx in clusters:\n",
    "        centroids[idx] = np.mean(clusters[idx], axis=0)\n",
    "    return centroids"
   ]
  },
  {
   "cell_type": "code",
   "execution_count": 6,
   "metadata": {},
   "outputs": [],
   "source": [
    "def kmeans(pixels, K, max_iters=100, tolerance=1e-4, visualize=False):\n",
    "    centroids = initialize_centroids_kmeans_plus_plus(pixels, K)\n",
    "    previous_centroids = centroids.copy()\n",
    "    for iteration in range(max_iters):\n",
    "        clusters = assign_pixels_to_centroids(pixels, centroids)\n",
    "        centroids = recompute_centroids(clusters, K)\n",
    "       \n",
    "        # Calculate L2 norm to log it\n",
    "        l2_norm = np.sqrt(np.sum((centroids - previous_centroids) ** 2))\n",
    "        with open('L2_norm_log.txt', 'a') as log_file:\n",
    "            log_file.write(f'Iteration {iteration}: L2 Norm = {l2_norm}\\n')\n",
    "       \n",
    "        # Check convergence\n",
    "        if np.all(np.abs(centroids - previous_centroids) < tolerance):\n",
    "            break\n",
    "       \n",
    "        previous_centroids = centroids.copy()\n",
    "       \n",
    "        if visualize:\n",
    "            quantized_image = create_quantized_image(pixels, clusters, centroids)\n",
    "            display_image(quantized_image)\n",
    "   \n",
    "    return clusters, centroids"
   ]
  },
  {
   "cell_type": "code",
   "execution_count": 7,
   "metadata": {},
   "outputs": [],
   "source": [
    "def create_quantized_image(pixels, clusters, centroids):\n",
    "    quantized_pixels = np.zeros(pixels.shape)\n",
    "    flat_pixels=pixels.reshape(-1,3)\n",
    "\n",
    "    for idx, cluster in clusters.items():\n",
    "        cluster=np.array(cluster)\n",
    "        mask=np.isin(flat_pixels,cluster).all(axis=1)\n",
    "\n",
    "        quantized_pixels[mask] = centroids[idx]\n",
    "    return quantized_pixels.reshape(height, width, 3).astype(np.uint8)\n"
   ]
  },
  {
   "cell_type": "code",
   "execution_count": 8,
   "metadata": {},
   "outputs": [],
   "source": [
    "def display_image(image):\n",
    "    plt.imshow(cv2.cvtColor(image, cv2.COLOR_BGR2RGB))\n",
    "    plt.axis('off')\n",
    "    plt.show()\n"
   ]
  },
  {
   "cell_type": "code",
   "execution_count": null,
   "metadata": {},
   "outputs": [],
   "source": [
    "def evaluate_l2_norm(original_pixels, quantized_pixels):\n",
    "    return np.sqrt(np.sum((original_pixels - quantized_pixels) ** 2))"
   ]
  },
  {
   "cell_type": "code",
   "execution_count": null,
   "metadata": {},
   "outputs": [],
   "source": [
    "if __name__ == \"__main__\":\n",
    "    # Load images\n",
    "    image_1 = cv2.imread('lena.png')\n",
    "    image_2 = cv2.imread('peppers.tif')\n",
    "\n",
    "    for image, name in zip([image_1, image_2], [\"lena\", \"peppers\"]):\n",
    "        height, width, _ = image.shape\n",
    "        pixels = image.reshape(-1, 3)\n",
    "\n",
    "        # Perform K-means quantization\n",
    "        K = 16\n",
    "        clusters, centroids = kmeans(pixels, K,max_iters=5, visualize=True)\n",
    "\n",
    "        # Reconstruct quantized image\n",
    "        quantized_image = create_quantized_image(pixels, clusters, centroids)\n",
    "\n",
    "        # Save the quantized image\n",
    "        cv2.imwrite(f'{name}_quantized.png', quantized_image)\n",
    "\n",
    "        # Evaluate total L2 norm\n",
    "        l2_distance = evaluate_l2_norm(pixels, quantized_image.reshape(-1, 3))\n",
    "        print(f'Total L2 norm for {name}: {l2_distance}')"
   ]
  },
  {
   "cell_type": "code",
   "execution_count": null,
   "metadata": {},
   "outputs": [],
   "source": [
    "a=2\n",
    "a"
   ]
  },
  {
   "cell_type": "code",
   "execution_count": null,
   "metadata": {},
   "outputs": [],
   "source": []
  }
 ],
 "metadata": {
  "kernelspec": {
   "display_name": "Python 3 (ipykernel)",
   "language": "python",
   "name": "python3"
  },
  "language_info": {
   "codemirror_mode": {
    "name": "ipython",
    "version": 3
   },
   "file_extension": ".py",
   "mimetype": "text/x-python",
   "name": "python",
   "nbconvert_exporter": "python",
   "pygments_lexer": "ipython3",
   "version": "3.10.11"
  }
 },
 "nbformat": 4,
 "nbformat_minor": 4
}
