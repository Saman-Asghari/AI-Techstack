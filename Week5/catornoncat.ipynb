{
 "cells": [
  {
   "cell_type": "code",
   "execution_count": null,
   "id": "3d78cd90-845b-43aa-9bee-6b4b9547da43",
   "metadata": {},
   "outputs": [],
   "source": [
    "import tensorflow as tf\n",
    "from tensorflow.keras import layers, models\n",
    "import matplotlib.pyplot as plt\n",
    "\n",
    "def create_model(input_shape):\n",
    "    model = models.Sequential()\n",
    "    model.add(layers.InputLayer(input_shape=input_shape))\n",
    "    model.add(layers.Dense(units=128, activation='relu'))\n",
    "    model.add(layers.Dense(units=64, activation='relu'))\n",
    "    model.add(layers.Dense(units=1, activation='sigmoid')\n",
    "    model.compile(optimizer='adam', \n",
    "                  loss='binary_crossentropy', \n",
    "                  metrics=['accuracy'])\n",
    "    return model\n",
    "\n",
    "def train_model(model, train_data, train_labels, epochs=50):\n",
    "    history = model.fit(train_data, train_labels, epochs=epochs)\n",
    "    return history\n",
    "\n",
    "def plot_loss(history):\n",
    "    plt.plot(history.history['loss'])\n",
    "    plt.title('Model Loss')\n",
    "    plt.xlabel('Epochs')\n",
    "    plt.ylabel('Loss')\n",
    "    plt.show()\n",
    "\n",
    "\n",
    "from loader import load_data\n",
    "train_data, train_labels, test_data, test_labels = load_data()\n",
    "train_data = train_data.reshape(train_data.shape[0], -1) / 255.0 \n",
    "test_data = test_data.reshape(test_data.shape[0], -1) / 255.0\n",
    "input_shape = (train_data.shape[1],) \n",
    "model = create_model(input_shape)\n",
    "history = train_model(model, train_data, train_labels, epochs=50)\n",
    "plot_loss(history)\n"
   ]
  }
 ],
 "metadata": {
  "kernelspec": {
   "display_name": "Python 3 (ipykernel)",
   "language": "python",
   "name": "python3"
  },
  "language_info": {
   "codemirror_mode": {
    "name": "ipython",
    "version": 3
   },
   "file_extension": ".py",
   "mimetype": "text/x-python",
   "name": "python",
   "nbconvert_exporter": "python",
   "pygments_lexer": "ipython3",
   "version": "3.10.11"
  }
 },
 "nbformat": 4,
 "nbformat_minor": 5
}
