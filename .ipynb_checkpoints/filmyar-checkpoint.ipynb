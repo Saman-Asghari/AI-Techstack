{
 "cells": [
  {
   "cell_type": "code",
   "execution_count": 37,
   "id": "062e6d32-ea99-4ce9-a63b-a06b87668a5f",
   "metadata": {},
   "outputs": [
    {
     "name": "stdout",
     "output_type": "stream",
     "text": [
      "One of the most famous Persian movies is \"A Separation\" (2011), directed by Asghar Farhadi. This award-winning film gained international acclaim, winning the Academy Award for Best Foreign Language Film. It tells a compelling story about a couple seeking a divorce and the ensuing conflicts that arise, addressing themes of morality, social class, and the complexities of human relationships. The film is highly regarded for its storytelling, character development, and realistic portrayal of contemporary Iranian society.\n"
     ]
    }
   ],
   "source": [
    "from openai import OpenAI\n",
    "\n",
    "client = OpenAI(base_url=\"https://api.metisai.ir/openai/v1\", api_key=\"tpsg-EPtB4tEVSCbgCRrTz3iv0padKyTMbtJ\")\n",
    "\n",
    "tools = [\n",
    "        {\n",
    "            \"type\": \"function\",\n",
    "            \"function\": {\n",
    "                \"name\": \"get_a_movie\",\n",
    "                \"description\": \"Get the latest movie by nolan\",\n",
    "                \"parameters\": {\n",
    "                    \"type\": \"object\",\n",
    "                    \"properties\": {\n",
    "                        \"direcotr\": {\n",
    "                            \"type\": \"string\",\n",
    "                            \"description\": \"The person who built the movie\"\n",
    "                        },\n",
    "                        \"unit\": {\n",
    "                            \"type\": \"string\",\n",
    "                            \"description\": \"The movie\",\n",
    "                        }\n",
    "                    },\n",
    "                    \"required\": [\n",
    "                        \"name\"\n",
    "                    ]\n",
    "                }\n",
    "            }\n",
    "        }\n",
    "    ]\n",
    "\n",
    "completion = client.chat.completions.create(\n",
    "    model=\"gpt-4o-mini\",\n",
    "    messages=[{\"role\": \"user\", \"content\": \"suggest the most famous persian movie\"}],\n",
    "    #tools=tools,\n",
    ")\n",
    "\n",
    "print(completion.choices[0].message.content)\n"
   ]
  },
  {
   "cell_type": "code",
   "execution_count": null,
   "id": "45a1d429-14b5-46cf-ab2a-ac8c9ba30434",
   "metadata": {},
   "outputs": [],
   "source": []
  }
 ],
 "metadata": {
  "kernelspec": {
   "display_name": "Python 3 (ipykernel)",
   "language": "python",
   "name": "python3"
  },
  "language_info": {
   "codemirror_mode": {
    "name": "ipython",
    "version": 3
   },
   "file_extension": ".py",
   "mimetype": "text/x-python",
   "name": "python",
   "nbconvert_exporter": "python",
   "pygments_lexer": "ipython3",
   "version": "3.10.11"
  }
 },
 "nbformat": 4,
 "nbformat_minor": 5
}
