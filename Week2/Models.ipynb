{
 "cells": [
  {
   "cell_type": "code",
   "execution_count": 1,
   "metadata": {},
   "outputs": [
    {
     "name": "stdout",
     "output_type": "stream",
     "text": [
      "Linear Regression:\n",
      "MSE: 2720800316.247958\n",
      "R² Score: 0.3173048951366573\n",
      "\n",
      "Decision Tree Regression:\n",
      "MSE: 3313446692.8854537\n",
      "R² Score: 0.168599832942544\n",
      "\n",
      "Random Forest Regression:\n",
      "MSE: 3071016196.4704995\n",
      "R² Score: 0.2294297704369339\n"
     ]
    }
   ],
   "source": [
    "import pandas as pd\n",
    "from sklearn.model_selection import train_test_split\n",
    "from sklearn.linear_model import LinearRegression\n",
    "from sklearn.tree import DecisionTreeRegressor\n",
    "from sklearn.ensemble import RandomForestRegressor\n",
    "from sklearn.metrics import mean_squared_error, r2_score\n",
    "\n",
    "data = pd.read_csv('House_Rent_Dataset.csv')\n",
    "\n",
    "X = data[['Size']]\n",
    "y = data['Rent']\n",
    "\n",
    "X_train, X_test, y_train, y_test = train_test_split(X, y, test_size=0.2, random_state=42)\n",
    "\n",
    "# Linear Regression\n",
    "linear_model = LinearRegression()\n",
    "linear_model.fit(X_train, y_train)\n",
    "y_linear_pred = linear_model.predict(X_test)\n",
    "linear_mse = mean_squared_error(y_test, y_linear_pred)\n",
    "linear_r2 = r2_score(y_test, y_linear_pred)\n",
    "print(\"Linear Regression:\")\n",
    "print(f\"MSE: {linear_mse}\")\n",
    "print(f\"R² Score: {linear_r2}\\n\")\n",
    "\n",
    "\n",
    "# Decision Tree Regressor\n",
    "tree_model = DecisionTreeRegressor(random_state=42)\n",
    "tree_model.fit(X_train, y_train)\n",
    "y_tree_pred = tree_model.predict(X_test)\n",
    "tree_mse = mean_squared_error(y_test, y_tree_pred)\n",
    "tree_r2 = r2_score(y_test, y_tree_pred)\n",
    "print(\"Decision Tree Regression:\")\n",
    "print(f\"MSE: {tree_mse}\")\n",
    "print(f\"R² Score: {tree_r2}\\n\")\n",
    "\n",
    "\n",
    "\n",
    "# Random Forest Regressor\n",
    "forest_model = RandomForestRegressor(n_estimators=100, random_state=42)\n",
    "forest_model.fit(X_train, y_train)\n",
    "y_forest_pred = forest_model.predict(X_test)\n",
    "forest_mse = mean_squared_error(y_test, y_forest_pred)\n",
    "forest_r2 = r2_score(y_test, y_forest_pred)\n",
    "print(\"Random Forest Regression:\")\n",
    "print(f\"MSE: {forest_mse}\")\n",
    "print(f\"R² Score: {forest_r2}\")\n"
   ]
  },
  {
   "cell_type": "code",
   "execution_count": null,
   "metadata": {},
   "outputs": [],
   "source": []
  },
  {
   "cell_type": "code",
   "execution_count": null,
   "metadata": {},
   "outputs": [],
   "source": []
  }
 ],
 "metadata": {
  "kernelspec": {
   "display_name": "Python 3 (ipykernel)",
   "language": "python",
   "name": "python3"
  },
  "language_info": {
   "codemirror_mode": {
    "name": "ipython",
    "version": 3
   },
   "file_extension": ".py",
   "mimetype": "text/x-python",
   "name": "python",
   "nbconvert_exporter": "python",
   "pygments_lexer": "ipython3",
   "version": "3.12.4"
  }
 },
 "nbformat": 4,
 "nbformat_minor": 4
}
