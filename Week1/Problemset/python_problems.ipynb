{
 "cells": [
  {
   "cell_type": "markdown",
   "metadata": {},
   "source": [
    "# Problem 1\n",
    "\n",
    "There are `n` children standing in a line. Each child is assigned a rating value given in the integer array `ratings`.\n",
    "\n",
    "You are giving candies to these children subjected to the following requirements:\n",
    "- Each child must have at least one candy.\n",
    "- Children with a higher rating get more candies than their neighbors.\n",
    "\n",
    "Return the minimum number of candies you need to have to distribute the candies to the children."
   ]
  },
  {
   "cell_type": "code",
   "execution_count": 40,
   "metadata": {},
   "outputs": [],
   "source": [
    "def candy(ratings: list[int])->list[int]:\n",
    "    size=len(ratings)\n",
    "    Pcan=[1 for i in range(size)]\n",
    "    for i in range(size - 2, -1, -1):\n",
    "        if ratings[i]>ratings[i + 1]:\n",
    "            Pcan[i]=Pcan[i + 1] + 1\n",
    "        if ratings[i]==ratings[i+1]:\n",
    "            pass\n",
    "    for i in range(1, size):\n",
    "        if ratings[i]>ratings[i - 1]:\n",
    "            Pcan[i]=max(Pcan[i], Pcan[i - 1] + 1)\n",
    "        if ratings[i]==ratings[i-1]:\n",
    "            pass\n",
    "    Answer=0\n",
    "    for i in Pcan:\n",
    "        Answer+=i\n",
    "    return Answer \n",
    "    "
   ]
  },
  {
   "cell_type": "code",
   "execution_count": 21,
   "metadata": {},
   "outputs": [],
   "source": [
    "assert candy([1,0,2]) == 5 # You can allocate to the first, second and third child with 2, 1, 2 candies respectively.\n",
    "assert candy([1,2,2]) == 4 # You can allocate to the first, second and third child with 1, 2, 1 candies respectively. The third child gets 1 candy because it satisfies the above two conditions.\n",
    "#print(candy([1,2,3,4,5,6]))"
   ]
  },
  {
   "cell_type": "markdown",
   "metadata": {},
   "source": [
    "# Problem 2\n",
    "\n",
    "Consider a money system consisting of `n` coins. Each coin has a positive integer value. Your task is to calculate the number of distinct ways you can produce a money sum `x` using the available coins.\n",
    "\n",
    "For example, if the coins are \\{2,3,5\\} and the desired sum is 9, there are 8 ways:\n",
    "- 2+2+5\n",
    "- 2+5+2\n",
    "- 5+2+2\n",
    "- 3+3+3\n",
    "- 2+2+2+3\n",
    "- 2+2+3+2\n",
    "- 2+3+2+2\n",
    "- 3+2+2+2"
   ]
  },
  {
   "cell_type": "code",
   "execution_count": 22,
   "metadata": {},
   "outputs": [],
   "source": [
    "def ways(n: int, x: int, coins: list[int]) -> int:\n",
    "    dp=[0 for i in range(x+1)]\n",
    "    dp[0]=1 \n",
    "    for i in range(1, x + 1):\n",
    "        for j in range(len(coins)):\n",
    "            if i>=coins[j]:\n",
    "                dp[i]+=dp[i-coins[j]]\n",
    "\n",
    "    return dp[x]"
   ]
  },
  {
   "cell_type": "code",
   "execution_count": 23,
   "metadata": {},
   "outputs": [],
   "source": [
    "assert ways(3, 9, [2,3,5]) == 8"
   ]
  },
  {
   "cell_type": "markdown",
   "metadata": {},
   "source": [
    "# Problem 3\n",
    "Given a string, your task is to reorder its letters in such a way that it becomes a palindrome.\n",
    "A palindrome is a word that reads the same backward as forward. e.g. \"madam\"\n",
    "\n",
    "Return a palindrome consisting of the characters of the original string. You may print any valid solution. If there are no solutions, return \"NO SOLUTION\"."
   ]
  },
  {
   "cell_type": "code",
   "execution_count": 36,
   "metadata": {},
   "outputs": [],
   "source": [
    "def CharNum(Input:str)->dict:\n",
    "    Frequency={}\n",
    "    for Char in Input:\n",
    "        if Char in Frequency:\n",
    "            Frequency[Char]+=1\n",
    "        else:\n",
    "            Frequency[Char]=1\n",
    "    return Frequency\n",
    "\n",
    "def palindromize(s: str) -> str:\n",
    "    Freq=CharNum(s)\n",
    "    OddCount=0\n",
    "    OddChar=\"\"\n",
    "    for Char,Count in Freq.items():\n",
    "        if Count%2!=0:\n",
    "            OddCount+=1\n",
    "            OddChar=Char\n",
    "    if OddCount>1:\n",
    "        return \"NO SOLUTION\"\n",
    "    LeftPart=[]\n",
    "    MiddlePart=\"\"\n",
    "    for Char,Count in Freq.items():\n",
    "        Half=Count//2\n",
    "        LeftPart.append(Char*Half)\n",
    "    if OddCount==1:\n",
    "        MiddlePart=OddChar*Freq[OddChar]\n",
    "    LeftPartStr=\"\".join(LeftPart)\n",
    "    RightPart=\"\"\n",
    "    for Char in LeftPartStr:\n",
    "        RightPart=Char+RightPart\n",
    "    Palindrome = LeftPartStr+MiddlePart+LeftPartStr[::-1]\n",
    "    \n",
    "    return Palindrome"
   ]
  },
  {
   "cell_type": "code",
   "execution_count": 38,
   "metadata": {},
   "outputs": [
    {
     "ename": "AssertionError",
     "evalue": "",
     "output_type": "error",
     "traceback": [
      "\u001b[1;31m---------------------------------------------------------------------------\u001b[0m",
      "\u001b[1;31mAssertionError\u001b[0m                            Traceback (most recent call last)",
      "Cell \u001b[1;32mIn[38], line 1\u001b[0m\n\u001b[1;32m----> 1\u001b[0m \u001b[38;5;28;01massert\u001b[39;00m palindromize(\u001b[38;5;124m'\u001b[39m\u001b[38;5;124mAAAACACBA\u001b[39m\u001b[38;5;124m'\u001b[39m) \u001b[38;5;241m==\u001b[39m \u001b[38;5;124m'\u001b[39m\u001b[38;5;124mAACABACAA\u001b[39m\u001b[38;5;124m'\u001b[39m\n",
      "\u001b[1;31mAssertionError\u001b[0m: "
     ]
    }
   ],
   "source": [
    "assert palindromize('AAAACACBA') == 'AACABACAA'"
   ]
  },
  {
   "cell_type": "code",
   "execution_count": null,
   "metadata": {},
   "outputs": [],
   "source": []
  }
 ],
 "metadata": {
  "kernelspec": {
   "display_name": "Python 3",
   "language": "python",
   "name": "python3"
  },
  "language_info": {
   "codemirror_mode": {
    "name": "ipython",
    "version": 3
   },
   "file_extension": ".py",
   "mimetype": "text/x-python",
   "name": "python",
   "nbconvert_exporter": "python",
   "pygments_lexer": "ipython3",
   "version": "3.10.11"
  }
 },
 "nbformat": 4,
 "nbformat_minor": 2
}
